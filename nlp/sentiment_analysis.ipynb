{
  "cells": [
    {
      "cell_type": "markdown",
      "metadata": {},
      "source": [
        "# Sentiment Analysis\n\nThis notebook demonstrates a tiny sentiment classifier using sklearn and TF-IDF."
      ]
    },
    {
      "cell_type": "code",
      "metadata": {},
      "outputs": [],
      "source": [
        "from sklearn.feature_extraction.text import TfidfVectorizer\nfrom sklearn.linear_model import LogisticRegression\n\nX = ['I love this', 'I hate that', 'It is okay']\ny = [1,0,1]\nclf = LogisticRegression().fit(TfidfVectorizer().fit_transform(X), y)\nprint('Trained tiny model')\n"
      ]
    }
  ],
  "metadata": {
    "kernelspec": {
      "name": "python3",
      "display_name": "Python 3"
    }
  },
  "nbformat": 4,
  "nbformat_minor": 5
}